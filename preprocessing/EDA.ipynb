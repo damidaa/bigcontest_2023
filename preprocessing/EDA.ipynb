{
 "cells": [
  {
   "cell_type": "code",
   "execution_count": 20,
   "id": "82c827a5-7e4e-477d-ae2a-c571fbb17831",
   "metadata": {},
   "outputs": [],
   "source": [
    "import pandas as pd\n",
    "df = pd.read_csv('cthall_no_covid.csv')"
   ]
  },
  {
   "cell_type": "code",
   "execution_count": 21,
   "id": "475173fe-397a-4829-b26f-911f5da1bb28",
   "metadata": {},
   "outputs": [
    {
     "name": "stdout",
     "output_type": "stream",
     "text": [
      "<class 'pandas.core.frame.DataFrame'>\n",
      "RangeIndex: 682323 entries, 0 to 682322\n",
      "Data columns (total 19 columns):\n",
      " #   Column            Non-Null Count   Dtype  \n",
      "---  ------            --------------   -----  \n",
      " 0   Unnamed: 0        682323 non-null  int64  \n",
      " 1   tran_date         682323 non-null  int64  \n",
      " 2   tran_time         682323 non-null  int64  \n",
      " 3   play_date         682323 non-null  int64  \n",
      " 4   seat              682323 non-null  object \n",
      " 5   price             682323 non-null  int64  \n",
      " 6   performance_code  682323 non-null  int64  \n",
      " 7   pre_open_date     420761 non-null  float64\n",
      " 8   open_date         682323 non-null  float64\n",
      " 9   genre             666398 non-null  object \n",
      " 10  running_time      682323 non-null  int64  \n",
      " 11  member_yn         682323 non-null  object \n",
      " 12  time              682323 non-null  object \n",
      " 13  floor             682323 non-null  object \n",
      " 14  zone              682323 non-null  object \n",
      " 15  col               682323 non-null  object \n",
      " 16  ori_price         682323 non-null  float64\n",
      " 17  date_diff         682323 non-null  float64\n",
      " 18  covid_sep         682323 non-null  float64\n",
      "dtypes: float64(5), int64(7), object(7)\n",
      "memory usage: 98.9+ MB\n"
     ]
    }
   ],
   "source": [
    "df.info()"
   ]
  },
  {
   "cell_type": "code",
   "execution_count": 28,
   "id": "ad63521c-7abe-4728-b72f-f5dc23f9d656",
   "metadata": {},
   "outputs": [
    {
     "data": {
      "text/html": [
       "<div>\n",
       "<style scoped>\n",
       "    .dataframe tbody tr th:only-of-type {\n",
       "        vertical-align: middle;\n",
       "    }\n",
       "\n",
       "    .dataframe tbody tr th {\n",
       "        vertical-align: top;\n",
       "    }\n",
       "\n",
       "    .dataframe thead th {\n",
       "        text-align: right;\n",
       "    }\n",
       "</style>\n",
       "<table border=\"1\" class=\"dataframe\">\n",
       "  <thead>\n",
       "    <tr style=\"text-align: right;\">\n",
       "      <th></th>\n",
       "      <th>play_date</th>\n",
       "      <th>performance_code</th>\n",
       "      <th>pre_open_date</th>\n",
       "      <th>open_date</th>\n",
       "      <th>genre</th>\n",
       "      <th>running_time</th>\n",
       "      <th>time</th>\n",
       "    </tr>\n",
       "  </thead>\n",
       "  <tbody>\n",
       "    <tr>\n",
       "      <th>0</th>\n",
       "      <td>20191109</td>\n",
       "      <td>44</td>\n",
       "      <td>NaN</td>\n",
       "      <td>20191023.00</td>\n",
       "      <td>교향곡</td>\n",
       "      <td>100</td>\n",
       "      <td>afternoon</td>\n",
       "    </tr>\n",
       "    <tr>\n",
       "      <th>1</th>\n",
       "      <td>20190723</td>\n",
       "      <td>827</td>\n",
       "      <td>20190602.00</td>\n",
       "      <td>20190602.00</td>\n",
       "      <td>교향곡</td>\n",
       "      <td>120</td>\n",
       "      <td>morning</td>\n",
       "    </tr>\n",
       "    <tr>\n",
       "      <th>2</th>\n",
       "      <td>20190721</td>\n",
       "      <td>1528</td>\n",
       "      <td>NaN</td>\n",
       "      <td>20190413.00</td>\n",
       "      <td>클래식</td>\n",
       "      <td>100</td>\n",
       "      <td>morning</td>\n",
       "    </tr>\n",
       "    <tr>\n",
       "      <th>3</th>\n",
       "      <td>20191201</td>\n",
       "      <td>315</td>\n",
       "      <td>NaN</td>\n",
       "      <td>20191005.00</td>\n",
       "      <td>오페라</td>\n",
       "      <td>120</td>\n",
       "      <td>afternoon</td>\n",
       "    </tr>\n",
       "    <tr>\n",
       "      <th>4</th>\n",
       "      <td>20230412</td>\n",
       "      <td>1684</td>\n",
       "      <td>20230218.00</td>\n",
       "      <td>20230219.00</td>\n",
       "      <td>합창</td>\n",
       "      <td>100</td>\n",
       "      <td>evening</td>\n",
       "    </tr>\n",
       "  </tbody>\n",
       "</table>\n",
       "</div>"
      ],
      "text/plain": [
       "   play_date  performance_code  pre_open_date   open_date genre  running_time  \\\n",
       "0   20191109                44            NaN 20191023.00   교향곡           100   \n",
       "1   20190723               827    20190602.00 20190602.00   교향곡           120   \n",
       "2   20190721              1528            NaN 20190413.00   클래식           100   \n",
       "3   20191201               315            NaN 20191005.00   오페라           120   \n",
       "4   20230412              1684    20230218.00 20230219.00    합창           100   \n",
       "\n",
       "        time  \n",
       "0  afternoon  \n",
       "1    morning  \n",
       "2    morning  \n",
       "3  afternoon  \n",
       "4    evening  "
      ]
     },
     "execution_count": 28,
     "metadata": {},
     "output_type": "execute_result"
    }
   ],
   "source": [
    "df1 = df.drop(columns=['tran_date','tran_time','Unnamed: 0','seat','price','member_yn','floor','zone','col','ori_price','date_diff','covid_sep'])\n",
    "df1.head()"
   ]
  },
  {
   "cell_type": "code",
   "execution_count": 23,
   "id": "c81c7072-1d84-4be5-9102-c443649894d4",
   "metadata": {},
   "outputs": [
    {
     "data": {
      "text/plain": [
       "Index(['Unnamed: 0', 'tran_date', 'tran_time', 'play_date', 'seat', 'price',\n",
       "       'performance_code', 'pre_open_date', 'open_date', 'genre',\n",
       "       'running_time', 'member_yn', 'time', 'floor', 'zone', 'col',\n",
       "       'ori_price', 'date_diff', 'covid_sep'],\n",
       "      dtype='object')"
      ]
     },
     "execution_count": 23,
     "metadata": {},
     "output_type": "execute_result"
    }
   ],
   "source": [
    "df.columns"
   ]
  },
  {
   "cell_type": "code",
   "execution_count": 31,
   "id": "616caa05-ab30-435e-823d-7b798d2dc2e7",
   "metadata": {},
   "outputs": [],
   "source": [
    "df_group = df.groupby(['performance_code','play_date'],as_index=False).agg({'floor' : 'count',\n",
    "                                                     'ori_price':'sum',\n",
    "                                                                     'price':'sum'})\n",
    "df_group.rename(columns = {'floor' : 'cus_count',\n",
    "                    'ori_price' : 'ori_total_price',\n",
    "                          'price' : 'total_price'},inplace=True)\n",
    "pd.options.display.float_format = '{:.2f}'.format"
   ]
  },
  {
   "cell_type": "code",
   "execution_count": 32,
   "id": "bae31121-beb8-4b72-aba2-30d3cc7a3982",
   "metadata": {},
   "outputs": [
    {
     "data": {
      "text/html": [
       "<div>\n",
       "<style scoped>\n",
       "    .dataframe tbody tr th:only-of-type {\n",
       "        vertical-align: middle;\n",
       "    }\n",
       "\n",
       "    .dataframe tbody tr th {\n",
       "        vertical-align: top;\n",
       "    }\n",
       "\n",
       "    .dataframe thead th {\n",
       "        text-align: right;\n",
       "    }\n",
       "</style>\n",
       "<table border=\"1\" class=\"dataframe\">\n",
       "  <thead>\n",
       "    <tr style=\"text-align: right;\">\n",
       "      <th></th>\n",
       "      <th>performance_code</th>\n",
       "      <th>play_date</th>\n",
       "      <th>cus_count</th>\n",
       "      <th>ori_total_price</th>\n",
       "      <th>total_price</th>\n",
       "    </tr>\n",
       "  </thead>\n",
       "  <tbody>\n",
       "    <tr>\n",
       "      <th>0</th>\n",
       "      <td>1</td>\n",
       "      <td>20230426</td>\n",
       "      <td>870</td>\n",
       "      <td>1632727.27</td>\n",
       "      <td>1323000</td>\n",
       "    </tr>\n",
       "    <tr>\n",
       "      <th>1</th>\n",
       "      <td>7</td>\n",
       "      <td>20190830</td>\n",
       "      <td>2110</td>\n",
       "      <td>557272.73</td>\n",
       "      <td>429000</td>\n",
       "    </tr>\n",
       "    <tr>\n",
       "      <th>2</th>\n",
       "      <td>23</td>\n",
       "      <td>20191025</td>\n",
       "      <td>943</td>\n",
       "      <td>21093827.75</td>\n",
       "      <td>20695000</td>\n",
       "    </tr>\n",
       "    <tr>\n",
       "      <th>3</th>\n",
       "      <td>29</td>\n",
       "      <td>20190822</td>\n",
       "      <td>1868</td>\n",
       "      <td>0.00</td>\n",
       "      <td>0</td>\n",
       "    </tr>\n",
       "    <tr>\n",
       "      <th>4</th>\n",
       "      <td>29</td>\n",
       "      <td>20190823</td>\n",
       "      <td>1802</td>\n",
       "      <td>0.00</td>\n",
       "      <td>0</td>\n",
       "    </tr>\n",
       "    <tr>\n",
       "      <th>...</th>\n",
       "      <td>...</td>\n",
       "      <td>...</td>\n",
       "      <td>...</td>\n",
       "      <td>...</td>\n",
       "      <td>...</td>\n",
       "    </tr>\n",
       "    <tr>\n",
       "      <th>490</th>\n",
       "      <td>2903</td>\n",
       "      <td>20221008</td>\n",
       "      <td>1167</td>\n",
       "      <td>1204545.45</td>\n",
       "      <td>927000</td>\n",
       "    </tr>\n",
       "    <tr>\n",
       "      <th>491</th>\n",
       "      <td>2920</td>\n",
       "      <td>20190117</td>\n",
       "      <td>915</td>\n",
       "      <td>35643636.36</td>\n",
       "      <td>24706000</td>\n",
       "    </tr>\n",
       "    <tr>\n",
       "      <th>492</th>\n",
       "      <td>2932</td>\n",
       "      <td>20191225</td>\n",
       "      <td>69</td>\n",
       "      <td>1913636.36</td>\n",
       "      <td>1810000</td>\n",
       "    </tr>\n",
       "    <tr>\n",
       "      <th>493</th>\n",
       "      <td>2936</td>\n",
       "      <td>20220710</td>\n",
       "      <td>685</td>\n",
       "      <td>45373684.21</td>\n",
       "      <td>47134000</td>\n",
       "    </tr>\n",
       "    <tr>\n",
       "      <th>494</th>\n",
       "      <td>2938</td>\n",
       "      <td>20230607</td>\n",
       "      <td>1766</td>\n",
       "      <td>169577177.03</td>\n",
       "      <td>163386000</td>\n",
       "    </tr>\n",
       "  </tbody>\n",
       "</table>\n",
       "<p>495 rows × 5 columns</p>\n",
       "</div>"
      ],
      "text/plain": [
       "     performance_code  play_date  cus_count  ori_total_price  total_price\n",
       "0                   1   20230426        870       1632727.27      1323000\n",
       "1                   7   20190830       2110        557272.73       429000\n",
       "2                  23   20191025        943      21093827.75     20695000\n",
       "3                  29   20190822       1868             0.00            0\n",
       "4                  29   20190823       1802             0.00            0\n",
       "..                ...        ...        ...              ...          ...\n",
       "490              2903   20221008       1167       1204545.45       927000\n",
       "491              2920   20190117        915      35643636.36     24706000\n",
       "492              2932   20191225         69       1913636.36      1810000\n",
       "493              2936   20220710        685      45373684.21     47134000\n",
       "494              2938   20230607       1766     169577177.03    163386000\n",
       "\n",
       "[495 rows x 5 columns]"
      ]
     },
     "execution_count": 32,
     "metadata": {},
     "output_type": "execute_result"
    }
   ],
   "source": [
    "df_group"
   ]
  },
  {
   "cell_type": "code",
   "execution_count": null,
   "id": "bf988839-2ffa-4854-9b98-b5649f3b1799",
   "metadata": {},
   "outputs": [],
   "source": []
  },
  {
   "cell_type": "code",
   "execution_count": 40,
   "id": "b0f77afc-f4a2-4440-b72d-49d441bdebf0",
   "metadata": {},
   "outputs": [],
   "source": [
    "df_total = pd.merge(df,df_group, how = 'left',left_on=['performance_code','play_date'],right_on=['performance_code','play_date'])"
   ]
  },
  {
   "cell_type": "code",
   "execution_count": 42,
   "id": "d5168dc3-e7f3-47ce-a88b-7066b8bc32ac",
   "metadata": {},
   "outputs": [
    {
     "data": {
      "text/plain": [
       "Index(['Unnamed: 0', 'tran_date', 'tran_time', 'play_date', 'seat', 'price',\n",
       "       'performance_code', 'pre_open_date', 'open_date', 'genre',\n",
       "       'running_time', 'member_yn', 'time', 'floor', 'zone', 'col',\n",
       "       'ori_price', 'date_diff', 'covid_sep', 'cus_count', 'ori_total_price',\n",
       "       'total_price'],\n",
       "      dtype='object')"
      ]
     },
     "execution_count": 42,
     "metadata": {},
     "output_type": "execute_result"
    }
   ],
   "source": [
    "df_total.columns"
   ]
  },
  {
   "cell_type": "markdown",
   "id": "8b7aa027-1f7c-4b7a-b9d5-c9809853cb2c",
   "metadata": {},
   "source": [
    "- genre, time -> BarChart\n",
    "- running_time, date_diff -> Scatter"
   ]
  },
  {
   "cell_type": "code",
   "execution_count": null,
   "id": "664e4d7b-f47a-4a6c-ae1f-3f2e53613564",
   "metadata": {},
   "outputs": [],
   "source": [
    "df_total[df_total['']]"
   ]
  }
 ],
 "metadata": {
  "kernelspec": {
   "display_name": "Python 3 (ipykernel)",
   "language": "python",
   "name": "python3"
  },
  "language_info": {
   "codemirror_mode": {
    "name": "ipython",
    "version": 3
   },
   "file_extension": ".py",
   "mimetype": "text/x-python",
   "name": "python",
   "nbconvert_exporter": "python",
   "pygments_lexer": "ipython3",
   "version": "3.11.4"
  }
 },
 "nbformat": 4,
 "nbformat_minor": 5
}
