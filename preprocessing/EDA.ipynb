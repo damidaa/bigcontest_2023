{
 "cells": [
  {
   "cell_type": "code",
   "execution_count": 12,
   "id": "82c827a5-7e4e-477d-ae2a-c571fbb17831",
   "metadata": {},
   "outputs": [],
   "source": [
    "import pandas as pd\n",
    "df = pd.read_csv('cthall_no_covid.csv')"
   ]
  },
  {
   "cell_type": "code",
   "execution_count": 13,
   "id": "475173fe-397a-4829-b26f-911f5da1bb28",
   "metadata": {},
   "outputs": [
    {
     "name": "stdout",
     "output_type": "stream",
     "text": [
      "<class 'pandas.core.frame.DataFrame'>\n",
      "RangeIndex: 682323 entries, 0 to 682322\n",
      "Data columns (total 19 columns):\n",
      " #   Column            Non-Null Count   Dtype  \n",
      "---  ------            --------------   -----  \n",
      " 0   Unnamed: 0        682323 non-null  int64  \n",
      " 1   tran_date         682323 non-null  int64  \n",
      " 2   tran_time         682323 non-null  int64  \n",
      " 3   play_date         682323 non-null  int64  \n",
      " 4   seat              682323 non-null  object \n",
      " 5   price             682323 non-null  int64  \n",
      " 6   performance_code  682323 non-null  int64  \n",
      " 7   pre_open_date     420761 non-null  float64\n",
      " 8   open_date         682323 non-null  float64\n",
      " 9   genre             666398 non-null  object \n",
      " 10  running_time      682323 non-null  int64  \n",
      " 11  member_yn         682323 non-null  object \n",
      " 12  time              682323 non-null  object \n",
      " 13  floor             682323 non-null  object \n",
      " 14  zone              682323 non-null  object \n",
      " 15  col               682323 non-null  object \n",
      " 16  ori_price         682323 non-null  float64\n",
      " 17  date_diff         682323 non-null  float64\n",
      " 18  covid_sep         682323 non-null  float64\n",
      "dtypes: float64(5), int64(7), object(7)\n",
      "memory usage: 98.9+ MB\n"
     ]
    }
   ],
   "source": [
    "df.info()"
   ]
  },
  {
   "cell_type": "code",
   "execution_count": 3,
   "id": "c81c7072-1d84-4be5-9102-c443649894d4",
   "metadata": {},
   "outputs": [
    {
     "data": {
      "text/plain": [
       "Index(['Unnamed: 0', 'tran_date', 'tran_time', 'play_date', 'seat', 'price',\n",
       "       'performance_code', 'pre_open_date', 'open_date', 'genre',\n",
       "       'running_time', 'member_yn', 'time', 'floor', 'zone', 'col',\n",
       "       'ori_price', 'date_diff', 'covid_sep'],\n",
       "      dtype='object')"
      ]
     },
     "execution_count": 3,
     "metadata": {},
     "output_type": "execute_result"
    }
   ],
   "source": [
    "cthall.columns"
   ]
  },
  {
   "cell_type": "code",
   "execution_count": 14,
   "id": "616caa05-ab30-435e-823d-7b798d2dc2e7",
   "metadata": {},
   "outputs": [],
   "source": [
    "df_group = df.groupby(['performance_code','play_date'],as_index=False).agg({'floor' : 'count',\n",
    "                                                     'ori_price':'sum',\n",
    "                                                                     'price':'sum'})\n",
    "df_group.rename(columns = {'floor' : 'cus_count',\n",
    "                    'ori_price' : 'total_price'},inplace=True)\n",
    "pd.options.display.float_format = '{:.2f}'.format"
   ]
  },
  {
   "cell_type": "code",
   "execution_count": 16,
   "id": "bae31121-beb8-4b72-aba2-30d3cc7a3982",
   "metadata": {},
   "outputs": [
    {
     "data": {
      "text/html": [
       "<div>\n",
       "<style scoped>\n",
       "    .dataframe tbody tr th:only-of-type {\n",
       "        vertical-align: middle;\n",
       "    }\n",
       "\n",
       "    .dataframe tbody tr th {\n",
       "        vertical-align: top;\n",
       "    }\n",
       "\n",
       "    .dataframe thead th {\n",
       "        text-align: right;\n",
       "    }\n",
       "</style>\n",
       "<table border=\"1\" class=\"dataframe\">\n",
       "  <thead>\n",
       "    <tr style=\"text-align: right;\">\n",
       "      <th></th>\n",
       "      <th>performance_code</th>\n",
       "      <th>play_date</th>\n",
       "      <th>cus_count</th>\n",
       "      <th>total_price</th>\n",
       "      <th>price</th>\n",
       "    </tr>\n",
       "  </thead>\n",
       "  <tbody>\n",
       "    <tr>\n",
       "      <th>0</th>\n",
       "      <td>1</td>\n",
       "      <td>20230426</td>\n",
       "      <td>870</td>\n",
       "      <td>1632727.27</td>\n",
       "      <td>1323000</td>\n",
       "    </tr>\n",
       "    <tr>\n",
       "      <th>1</th>\n",
       "      <td>7</td>\n",
       "      <td>20190830</td>\n",
       "      <td>2110</td>\n",
       "      <td>557272.73</td>\n",
       "      <td>429000</td>\n",
       "    </tr>\n",
       "    <tr>\n",
       "      <th>2</th>\n",
       "      <td>23</td>\n",
       "      <td>20191025</td>\n",
       "      <td>943</td>\n",
       "      <td>21093827.75</td>\n",
       "      <td>20695000</td>\n",
       "    </tr>\n",
       "    <tr>\n",
       "      <th>3</th>\n",
       "      <td>29</td>\n",
       "      <td>20190822</td>\n",
       "      <td>1868</td>\n",
       "      <td>0.00</td>\n",
       "      <td>0</td>\n",
       "    </tr>\n",
       "    <tr>\n",
       "      <th>4</th>\n",
       "      <td>29</td>\n",
       "      <td>20190823</td>\n",
       "      <td>1802</td>\n",
       "      <td>0.00</td>\n",
       "      <td>0</td>\n",
       "    </tr>\n",
       "    <tr>\n",
       "      <th>...</th>\n",
       "      <td>...</td>\n",
       "      <td>...</td>\n",
       "      <td>...</td>\n",
       "      <td>...</td>\n",
       "      <td>...</td>\n",
       "    </tr>\n",
       "    <tr>\n",
       "      <th>490</th>\n",
       "      <td>2903</td>\n",
       "      <td>20221008</td>\n",
       "      <td>1167</td>\n",
       "      <td>1204545.45</td>\n",
       "      <td>927000</td>\n",
       "    </tr>\n",
       "    <tr>\n",
       "      <th>491</th>\n",
       "      <td>2920</td>\n",
       "      <td>20190117</td>\n",
       "      <td>915</td>\n",
       "      <td>35643636.36</td>\n",
       "      <td>24706000</td>\n",
       "    </tr>\n",
       "    <tr>\n",
       "      <th>492</th>\n",
       "      <td>2932</td>\n",
       "      <td>20191225</td>\n",
       "      <td>69</td>\n",
       "      <td>1913636.36</td>\n",
       "      <td>1810000</td>\n",
       "    </tr>\n",
       "    <tr>\n",
       "      <th>493</th>\n",
       "      <td>2936</td>\n",
       "      <td>20220710</td>\n",
       "      <td>685</td>\n",
       "      <td>45373684.21</td>\n",
       "      <td>47134000</td>\n",
       "    </tr>\n",
       "    <tr>\n",
       "      <th>494</th>\n",
       "      <td>2938</td>\n",
       "      <td>20230607</td>\n",
       "      <td>1766</td>\n",
       "      <td>169577177.03</td>\n",
       "      <td>163386000</td>\n",
       "    </tr>\n",
       "  </tbody>\n",
       "</table>\n",
       "<p>495 rows × 5 columns</p>\n",
       "</div>"
      ],
      "text/plain": [
       "     performance_code  play_date  cus_count  total_price      price\n",
       "0                   1   20230426        870   1632727.27    1323000\n",
       "1                   7   20190830       2110    557272.73     429000\n",
       "2                  23   20191025        943  21093827.75   20695000\n",
       "3                  29   20190822       1868         0.00          0\n",
       "4                  29   20190823       1802         0.00          0\n",
       "..                ...        ...        ...          ...        ...\n",
       "490              2903   20221008       1167   1204545.45     927000\n",
       "491              2920   20190117        915  35643636.36   24706000\n",
       "492              2932   20191225         69   1913636.36    1810000\n",
       "493              2936   20220710        685  45373684.21   47134000\n",
       "494              2938   20230607       1766 169577177.03  163386000\n",
       "\n",
       "[495 rows x 5 columns]"
      ]
     },
     "execution_count": 16,
     "metadata": {},
     "output_type": "execute_result"
    }
   ],
   "source": [
    "df_group"
   ]
  },
  {
   "cell_type": "code",
   "execution_count": 18,
   "id": "01484d4b-c55c-47b3-b3e2-2cb1131f95be",
   "metadata": {},
   "outputs": [
    {
     "data": {
      "text/plain": [
       "count     682323.00\n",
       "mean    20209741.81\n",
       "std        17352.84\n",
       "min     20181125.00\n",
       "25%     20190821.00\n",
       "50%     20220611.00\n",
       "75%     20221229.00\n",
       "max     20230707.00\n",
       "Name: play_date, dtype: float64"
      ]
     },
     "execution_count": 18,
     "metadata": {},
     "output_type": "execute_result"
    }
   ],
   "source": [
    "df['play_date'].describe()"
   ]
  },
  {
   "cell_type": "code",
   "execution_count": null,
   "id": "b0f77afc-f4a2-4440-b72d-49d441bdebf0",
   "metadata": {},
   "outputs": [],
   "source": []
  }
 ],
 "metadata": {
  "kernelspec": {
   "display_name": "Python 3 (ipykernel)",
   "language": "python",
   "name": "python3"
  },
  "language_info": {
   "codemirror_mode": {
    "name": "ipython",
    "version": 3
   },
   "file_extension": ".py",
   "mimetype": "text/x-python",
   "name": "python",
   "nbconvert_exporter": "python",
   "pygments_lexer": "ipython3",
   "version": "3.11.4"
  }
 },
 "nbformat": 4,
 "nbformat_minor": 5
}
